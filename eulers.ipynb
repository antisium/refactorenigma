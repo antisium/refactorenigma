{
  "nbformat": 4,
  "nbformat_minor": 0,
  "metadata": {
    "colab": {
      "name": "eulers.ipynb",
      "provenance": [],
      "authorship_tag": "ABX9TyOvPHz7cNnMCL+KzW1T4siY",
      "include_colab_link": true
    },
    "kernelspec": {
      "name": "python3",
      "display_name": "Python 3"
    }
  },
  "cells": [
    {
      "cell_type": "markdown",
      "metadata": {
        "id": "view-in-github",
        "colab_type": "text"
      },
      "source": [
        "<a href=\"https://colab.research.google.com/github/antisium/refactorenigma/blob/patch-1-for-1-to-10/eulers.ipynb\" target=\"_parent\"><img src=\"https://colab.research.google.com/assets/colab-badge.svg\" alt=\"Open In Colab\"/></a>"
      ]
    },
    {
      "cell_type": "code",
      "metadata": {
        "id": "Mu3xHI3QJfxw",
        "colab_type": "code",
        "colab": {}
      },
      "source": [
        "#001\n",
        "#If we list all the natural numbers below 10 that are multiples of 3 or 5, we get 3, 5, 6 and 9. The sum of these multiples is 23.\n",
        "#Find the sum of all the multiples of 3 or 5 below 1000.\n",
        "\n",
        "req = []\n",
        "\n",
        "#for 3,5\n",
        "for num in range(1000):\n",
        "  if num % 3 == 0:\n",
        "    if num not in req:\n",
        "      req += [num]\n",
        "      #continue\n",
        "  if num % 5 == 0:\n",
        "    if num not in req:\n",
        "      req += [num]\n",
        "      #continue\n",
        "\n",
        "#summing\n",
        "sm = 0\n",
        "for i in req:\n",
        "  sm += i\n",
        "else:\n",
        "  print(sm)"
      ],
      "execution_count": 0,
      "outputs": []
    },
    {
      "cell_type": "code",
      "metadata": {
        "id": "N0xes_17K8SP",
        "colab_type": "code",
        "colab": {}
      },
      "source": [
        "#002\n"
      ],
      "execution_count": 0,
      "outputs": []
    }
  ]
}